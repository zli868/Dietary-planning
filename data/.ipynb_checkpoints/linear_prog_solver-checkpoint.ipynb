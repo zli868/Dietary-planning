{
 "cells": [
  {
   "cell_type": "code",
   "execution_count": 1,
   "id": "3bc93459-bb23-4bd7-9dd3-2bda6826e860",
   "metadata": {},
   "outputs": [],
   "source": [
    "import pandas as pd\n",
    "import numpy as np\n",
    "from pulp import LpMaximize, LpProblem, LpVariable, lpSum"
   ]
  },
  {
   "cell_type": "code",
   "execution_count": 2,
   "id": "28369abc-6180-46b8-a728-97118d9dd81a",
   "metadata": {},
   "outputs": [],
   "source": [
    "# Load the CSV files into DataFrames\n",
    "df_intake = pd.read_csv(\"Nutrient_Intake_Recommendations_Formalized.csv\")\n",
    "df_recipe_cost = pd.read_csv(\"Recipe_Cost_Formalized.csv\")\n",
    "df_recipe_nutrition = pd.read_csv(\"Recipe_Nutritional_Value_Formalized.csv\")"
   ]
  },
  {
   "cell_type": "markdown",
   "id": "9e93a7bd-c91e-442b-b9ea-da2c8f15a8fa",
   "metadata": {},
   "source": [
    "Prediction for one meal"
   ]
  },
  {
   "cell_type": "code",
   "execution_count": 3,
   "id": "7407f499-fc3f-4f2d-acc6-06a5d67a6990",
   "metadata": {},
   "outputs": [
    {
     "name": "stdout",
     "output_type": "stream",
     "text": [
      "Status: 1\n",
      "Objective: 9.0\n",
      "Time spent: 75.0 minutes\n"
     ]
    },
    {
     "data": {
      "text/plain": [
       "{'Broccolini Quinoa Pilaf': 1.0,\n",
       " 'Vanilla Cream Cakes, Easy and Fluffy Holiday Cakes': 1.0}"
      ]
     },
     "execution_count": 3,
     "metadata": {},
     "output_type": "execute_result"
    }
   ],
   "source": [
    "# Extract required data\n",
    "time_available = 60*1.3  # Example time available (in minutes)\n",
    "# nutrient_requirements = {\n",
    "#     'Calcium': 1000,\n",
    "#     'Carbohydrate': 351,\n",
    "#     'Cholesterol': 0,\n",
    "#     'Energy': 3119\n",
    "# }\n",
    "\n",
    "# Define the nutrient requirements dictionary from the df_intake DataFrame\n",
    "nutrient_requirements = dict(zip(df_intake['Nutrient'], df_intake['Quantity']))\n",
    "\n",
    "# Define decision variables\n",
    "recipes_to_produce = LpVariable.dicts(\"Recipe\", df_recipe_cost['Name'], lowBound=0, cat='Integer')\n",
    "\n",
    "# Define the optimization problem\n",
    "prob = LpProblem(\"Recipe_Production\", LpMaximize)\n",
    "\n",
    "# Objective function: maximize food preference produced\n",
    "prob += lpSum(df_recipe_cost.loc[df_recipe_cost['Name'] == recipe, 'Preference'].values[0] * recipes_to_produce[recipe] for recipe in df_recipe_cost['Name'])\n",
    "\n",
    "# Constraint 1: time cost\n",
    "prob += lpSum(df_recipe_cost.loc[df_recipe_cost['Name'] == recipe, 'Time'].values[0] * recipes_to_produce[recipe] for recipe in df_recipe_cost['Name']) <= time_available\n",
    "\n",
    "# Constraint 2: nutritional requirements\n",
    "for nutrient in nutrient_requirements:\n",
    "    prob += lpSum(df_recipe_nutrition.loc[df_recipe_nutrition['Name'] == recipe, nutrient].values[0] * recipes_to_produce[recipe] for recipe in df_recipe_nutrition['Name']) >= nutrient_requirements[nutrient]/3\n",
    "\n",
    "# Solve the optimization problem\n",
    "prob.solve()\n",
    "\n",
    "# Print the results\n",
    "print(\"Status:\", prob.status)\n",
    "print(\"Objective:\", round(prob.objective.value(), 2))\n",
    "\n",
    "# for recipe in df_recipe_cost['Name']:\n",
    "#     quantity = recipes_to_produce[recipe].value()\n",
    "#     if quantity > 0:\n",
    "#         print(f\"Quantity of {recipe}: {round(quantity, 2)}\")\n",
    "\n",
    "# Initialize an empty list to store the quantities\n",
    "alpha = []\n",
    "\n",
    "# Iterate through all recipes\n",
    "for recipe in df_recipe_cost['Name']:\n",
    "    # Retrieve the quantity from the optimization results\n",
    "    quantity = recipes_to_produce[recipe].value()\n",
    "    # Append the quantity to the alpha list\n",
    "    alpha.append(round(quantity, 2))\n",
    "\n",
    "# Print the whole array of quantities\n",
    "#print(\"Quantity array (alpha):\", alpha)\n",
    "\n",
    "output = dict(zip(list(df_recipe_cost['Name']), alpha))\n",
    "\n",
    "# Filter out dishes with a number to make of 0.0\n",
    "output = {dish: quantity for dish, quantity in output.items() if quantity > 0}\n",
    "# Calculate time spent for each meal\n",
    "time_spent = sum(df_recipe_cost.loc[df_recipe_cost['Name'] == recipe, 'Time'].values[0] * alpha[i] for i, recipe in enumerate(df_recipe_cost['Name']))\n",
    "# Print out time spent for each meal\n",
    "print(\"Time spent:\", round(time_spent, 2), \"minutes\")\n",
    "\n",
    "\n",
    "output"
   ]
  },
  {
   "cell_type": "markdown",
   "id": "37c02b60-25c8-4b64-8a35-2537d6070f68",
   "metadata": {},
   "source": [
    "Prediction for three meals. Namely breakfast, lunch and dinner"
   ]
  },
  {
   "cell_type": "code",
   "execution_count": 4,
   "id": "225980ae-6561-4871-bdb1-8864ae8cdc10",
   "metadata": {},
   "outputs": [
    {
     "name": "stdout",
     "output_type": "stream",
     "text": [
      "Status: 1\n",
      "Objective: 37.0\n",
      "Time spent for breakfast: 22.0 minutes\n",
      "Time spent for lunch: 60.0 minutes\n",
      "Time spent for dinner: 119.0 minutes\n"
     ]
    }
   ],
   "source": [
    "# Define the time available for each meal\n",
    "time_breakfast = 60*0.5  # Example time available for breakfast (in minutes)\n",
    "time_lunch = 60*1  # Example time available for lunch (in minutes)\n",
    "time_dinner = 60*2  # Example time available for dinner (in minutes)\n",
    "\n",
    "# Define the nutrient requirements dictionary from the df_intake DataFrame\n",
    "nutrient_requirements = dict(zip(df_intake['Nutrient'], df_intake['Quantity']))\n",
    "\n",
    "# Define decision variables for each meal\n",
    "recipes_to_produce_breakfast = LpVariable.dicts(\"Recipe_Breakfast\",df_recipe_cost['Name'], lowBound=0, cat='Integer')\n",
    "recipes_to_produce_lunch = LpVariable.dicts(\"Recipe_Lunch\", df_recipe_cost['Name'], lowBound=0, cat='Integer')\n",
    "recipes_to_produce_dinner = LpVariable.dicts(\"Recipe_Dinner\", df_recipe_cost['Name'], lowBound=0, cat='Integer')\n",
    "\n",
    "# Define the optimization problem\n",
    "prob = LpProblem(\"Recipe_Production_for_day\", LpMaximize)\n",
    "\n",
    "# Objective function: maximize food preference produced\n",
    "prob += lpSum(df_recipe_cost.loc[df_recipe_cost['Name'] == recipe, 'Preference'].values[0] * \n",
    "              (recipes_to_produce_breakfast[recipe] + recipes_to_produce_lunch[recipe] + recipes_to_produce_dinner[recipe])\n",
    "              for recipe in df_recipe_cost['Name'])\n",
    "\n",
    "# Constraint 1: time cost for each meal\n",
    "prob += lpSum(df_recipe_cost.loc[df_recipe_cost['Name'] == recipe, 'Time'].values[0] * recipes_to_produce_breakfast[recipe] for recipe in df_recipe_cost['Name']) <= time_breakfast\n",
    "prob += lpSum(df_recipe_cost.loc[df_recipe_cost['Name'] == recipe, 'Time'].values[0] * recipes_to_produce_lunch[recipe] for recipe in df_recipe_cost['Name']) <= time_lunch\n",
    "prob += lpSum(df_recipe_cost.loc[df_recipe_cost['Name'] == recipe, 'Time'].values[0] * recipes_to_produce_dinner[recipe] for recipe in df_recipe_cost['Name']) <= time_dinner\n",
    "\n",
    "# Constraint 2: nutritional requirements: we want that combination all three meals together satisfy the nutritional requirements\n",
    "for nutrient in nutrient_requirements:\n",
    "     prob += lpSum(df_recipe_nutrition.loc[df_recipe_nutrition['Name'] == recipe, nutrient].values[0] *\n",
    "                   (recipes_to_produce_breakfast[recipe] + recipes_to_produce_lunch[recipe] + recipes_to_produce_dinner[recipe])\n",
    "                  for recipe in df_recipe_nutrition['Name']) >= nutrient_requirements[nutrient]\n",
    "\n",
    "# Solve the optimization problem\n",
    "prob.solve()\n",
    "\n",
    "# Print the results\n",
    "print(\"Status:\", prob.status)\n",
    "print(\"Objective:\", round(prob.objective.value(), 2))\n",
    "\n",
    "# Initialize an empty list to store the quantities\n",
    "alpha_b = []\n",
    "alpha_l = []\n",
    "alpha_d = []\n",
    "\n",
    "\n",
    "for recipe in df_recipe_cost['Name']:\n",
    "    # Retrieve the quantity from the optimization results\n",
    "    quantity_b = recipes_to_produce_breakfast[recipe].value()\n",
    "    quantity_l = recipes_to_produce_lunch[recipe].value()\n",
    "    quantity_d = recipes_to_produce_dinner[recipe].value()\n",
    "    \n",
    "    # Append the quantity to the alpha list\n",
    "    alpha_b.append(round(quantity_b, 2))\n",
    "    alpha_l.append(round(quantity_l, 2))\n",
    "    alpha_d.append(round(quantity_d, 2))\n",
    "\n",
    "output_b = dict(zip(list(df_recipe_cost['Name']), alpha_b))\n",
    "output_l = dict(zip(list(df_recipe_cost['Name']), alpha_l))\n",
    "output_d = dict(zip(list(df_recipe_cost['Name']), alpha_d))\n",
    "\n",
    "# Filter out dishes with a number to make of 0.0\n",
    "output_b= {dish: quantity for dish, quantity in output_b.items() if quantity > 0}\n",
    "output_l = {dish: quantity for dish, quantity in output_l.items() if quantity > 0}\n",
    "output_d = {dish: quantity for dish, quantity in output_d.items() if quantity > 0}\n",
    "\n",
    "# Calculate time spent for each meal\n",
    "time_spent_breakfast = sum(df_recipe_cost.loc[df_recipe_cost['Name'] == recipe, 'Time'].values[0] * alpha_b[i] for i, recipe in enumerate(df_recipe_cost['Name']))\n",
    "time_spent_lunch = sum(df_recipe_cost.loc[df_recipe_cost['Name'] == recipe, 'Time'].values[0] * alpha_l[i] for i, recipe in enumerate(df_recipe_cost['Name']))\n",
    "time_spent_dinner = sum(df_recipe_cost.loc[df_recipe_cost['Name'] == recipe, 'Time'].values[0] * alpha_d[i] for i, recipe in enumerate(df_recipe_cost['Name']))\n",
    "\n",
    "# Print out time spent for each meal\n",
    "print(\"Time spent for breakfast:\", round(time_spent_breakfast, 2), \"minutes\")\n",
    "print(\"Time spent for lunch:\", round(time_spent_lunch, 2), \"minutes\")\n",
    "print(\"Time spent for dinner:\", round(time_spent_dinner, 2), \"minutes\")\n",
    "\n"
   ]
  },
  {
   "cell_type": "code",
   "execution_count": 5,
   "id": "6e360090-99b3-4935-8c48-baf585795664",
   "metadata": {},
   "outputs": [
    {
     "name": "stdout",
     "output_type": "stream",
     "text": [
      "breakfast\n",
      "{'Slow Cooker Chicken and Dumplings': 2.0}\n",
      "lunch\n",
      "{'Broccolini Quinoa Pilaf': 2.0}\n",
      "dinner\n",
      "{'Broccolini Quinoa Pilaf': 1.0, 'Slow Cooker Chicken and Dumplings': 4.0, 'Vanilla Cream Cakes, Easy and Fluffy Holiday Cakes': 1.0}\n"
     ]
    }
   ],
   "source": [
    "print(\"breakfast\")\n",
    "print(output_b)\n",
    "print(\"lunch\")\n",
    "print(output_l)\n",
    "print(\"dinner\")\n",
    "print(output_d)"
   ]
  },
  {
   "cell_type": "markdown",
   "id": "04db86c8-318e-481f-acb7-2d5264a13829",
   "metadata": {},
   "source": [
    "Experiments with the exponential decay. non-linear program"
   ]
  },
  {
   "cell_type": "code",
   "execution_count": 6,
   "id": "12785842-3e3f-4ccd-8363-a7ef3b41d2e8",
   "metadata": {},
   "outputs": [
    {
     "ename": "TypeError",
     "evalue": "unsupported operand type(s) for ** or pow(): 'float' and 'LpVariable'",
     "output_type": "error",
     "traceback": [
      "\u001b[1;31m---------------------------------------------------------------------------\u001b[0m",
      "\u001b[1;31mTypeError\u001b[0m                                 Traceback (most recent call last)",
      "Cell \u001b[1;32mIn[6], line 12\u001b[0m\n\u001b[0;32m      9\u001b[0m prob \u001b[38;5;241m=\u001b[39m LpProblem(\u001b[38;5;124m\"\u001b[39m\u001b[38;5;124mRecipe_Production\u001b[39m\u001b[38;5;124m\"\u001b[39m, LpMaximize)\n\u001b[0;32m     11\u001b[0m \u001b[38;5;66;03m# Objective function: maximize food preference produced with preference decay for duplicated meals\u001b[39;00m\n\u001b[1;32m---> 12\u001b[0m prob \u001b[38;5;241m+\u001b[39m\u001b[38;5;241m=\u001b[39m \u001b[43mlpSum\u001b[49m\u001b[43m(\u001b[49m\u001b[43mdf_recipe_cost\u001b[49m\u001b[38;5;241;43m.\u001b[39;49m\u001b[43mloc\u001b[49m\u001b[43m[\u001b[49m\u001b[43mdf_recipe_cost\u001b[49m\u001b[43m[\u001b[49m\u001b[38;5;124;43m'\u001b[39;49m\u001b[38;5;124;43mName\u001b[39;49m\u001b[38;5;124;43m'\u001b[39;49m\u001b[43m]\u001b[49m\u001b[43m \u001b[49m\u001b[38;5;241;43m==\u001b[39;49m\u001b[43m \u001b[49m\u001b[43mrecipe\u001b[49m\u001b[43m,\u001b[49m\u001b[43m \u001b[49m\u001b[38;5;124;43m'\u001b[39;49m\u001b[38;5;124;43mPreference\u001b[39;49m\u001b[38;5;124;43m'\u001b[39;49m\u001b[43m]\u001b[49m\u001b[38;5;241;43m.\u001b[39;49m\u001b[43mvalues\u001b[49m\u001b[43m[\u001b[49m\u001b[38;5;241;43m0\u001b[39;49m\u001b[43m]\u001b[49m\u001b[43m \u001b[49m\u001b[38;5;241;43m*\u001b[39;49m\u001b[43m \u001b[49m\u001b[43m(\u001b[49m\u001b[43m(\u001b[49m\u001b[38;5;241;43m1\u001b[39;49m\u001b[38;5;241;43m-\u001b[39;49m\u001b[43mdecay_mul\u001b[49m\u001b[38;5;241;43m*\u001b[39;49m\u001b[38;5;241;43m*\u001b[39;49m\u001b[43mrecipes_to_produce\u001b[49m\u001b[43m[\u001b[49m\u001b[43mrecipe\u001b[49m\u001b[43m]\u001b[49m\u001b[43m)\u001b[49m\u001b[38;5;241;43m/\u001b[39;49m\u001b[43m(\u001b[49m\u001b[38;5;241;43m1\u001b[39;49m\u001b[38;5;241;43m-\u001b[39;49m\u001b[43mdecay_mul\u001b[49m\u001b[43m)\u001b[49m\u001b[43m)\u001b[49m\u001b[43m \u001b[49m\u001b[38;5;28;43;01mfor\u001b[39;49;00m\u001b[43m \u001b[49m\u001b[43mrecipe\u001b[49m\u001b[43m \u001b[49m\u001b[38;5;129;43;01min\u001b[39;49;00m\u001b[43m \u001b[49m\u001b[43mdf_recipe_cost\u001b[49m\u001b[43m[\u001b[49m\u001b[38;5;124;43m'\u001b[39;49m\u001b[38;5;124;43mName\u001b[39;49m\u001b[38;5;124;43m'\u001b[39;49m\u001b[43m]\u001b[49m\u001b[43m)\u001b[49m\n\u001b[0;32m     14\u001b[0m \u001b[38;5;66;03m# Constraint 1: time cost\u001b[39;00m\n\u001b[0;32m     15\u001b[0m prob \u001b[38;5;241m+\u001b[39m\u001b[38;5;241m=\u001b[39m lpSum(df_recipe_cost\u001b[38;5;241m.\u001b[39mloc[df_recipe_cost[\u001b[38;5;124m'\u001b[39m\u001b[38;5;124mName\u001b[39m\u001b[38;5;124m'\u001b[39m] \u001b[38;5;241m==\u001b[39m recipe, \u001b[38;5;124m'\u001b[39m\u001b[38;5;124mTime\u001b[39m\u001b[38;5;124m'\u001b[39m]\u001b[38;5;241m.\u001b[39mvalues[\u001b[38;5;241m0\u001b[39m] \u001b[38;5;241m*\u001b[39m recipes_to_produce[recipe] \u001b[38;5;28;01mfor\u001b[39;00m recipe \u001b[38;5;129;01min\u001b[39;00m df_recipe_cost[\u001b[38;5;124m'\u001b[39m\u001b[38;5;124mName\u001b[39m\u001b[38;5;124m'\u001b[39m]) \u001b[38;5;241m<\u001b[39m\u001b[38;5;241m=\u001b[39m time_available\n",
      "File \u001b[1;32mF:\\python10\\lib\\site-packages\\pulp\\pulp.py:2249\u001b[0m, in \u001b[0;36mlpSum\u001b[1;34m(vector)\u001b[0m\n\u001b[0;32m   2243\u001b[0m \u001b[38;5;28;01mdef\u001b[39;00m \u001b[38;5;21mlpSum\u001b[39m(vector):\n\u001b[0;32m   2244\u001b[0m \u001b[38;5;250m    \u001b[39m\u001b[38;5;124;03m\"\"\"\u001b[39;00m\n\u001b[0;32m   2245\u001b[0m \u001b[38;5;124;03m    Calculate the sum of a list of linear expressions\u001b[39;00m\n\u001b[0;32m   2246\u001b[0m \n\u001b[0;32m   2247\u001b[0m \u001b[38;5;124;03m    :param vector: A list of linear expressions\u001b[39;00m\n\u001b[0;32m   2248\u001b[0m \u001b[38;5;124;03m    \"\"\"\u001b[39;00m\n\u001b[1;32m-> 2249\u001b[0m     \u001b[38;5;28;01mreturn\u001b[39;00m \u001b[43mLpAffineExpression\u001b[49m\u001b[43m(\u001b[49m\u001b[43m)\u001b[49m\u001b[38;5;241;43m.\u001b[39;49m\u001b[43maddInPlace\u001b[49m\u001b[43m(\u001b[49m\u001b[43mvector\u001b[49m\u001b[43m)\u001b[49m\n",
      "File \u001b[1;32mF:\\python10\\lib\\site-packages\\pulp\\pulp.py:860\u001b[0m, in \u001b[0;36mLpAffineExpression.addInPlace\u001b[1;34m(self, other)\u001b[0m\n\u001b[0;32m    858\u001b[0m         \u001b[38;5;28mself\u001b[39m\u001b[38;5;241m.\u001b[39maddInPlace(e)\n\u001b[0;32m    859\u001b[0m \u001b[38;5;28;01melif\u001b[39;00m \u001b[38;5;28misinstance\u001b[39m(other, \u001b[38;5;28mlist\u001b[39m) \u001b[38;5;129;01mor\u001b[39;00m \u001b[38;5;28misinstance\u001b[39m(other, Iterable):\n\u001b[1;32m--> 860\u001b[0m     \u001b[38;5;28;01mfor\u001b[39;00m e \u001b[38;5;129;01min\u001b[39;00m other:\n\u001b[0;32m    861\u001b[0m         \u001b[38;5;28mself\u001b[39m\u001b[38;5;241m.\u001b[39maddInPlace(e)\n\u001b[0;32m    862\u001b[0m \u001b[38;5;28;01melse\u001b[39;00m:\n",
      "Cell \u001b[1;32mIn[6], line 12\u001b[0m, in \u001b[0;36m<genexpr>\u001b[1;34m(.0)\u001b[0m\n\u001b[0;32m      9\u001b[0m prob \u001b[38;5;241m=\u001b[39m LpProblem(\u001b[38;5;124m\"\u001b[39m\u001b[38;5;124mRecipe_Production\u001b[39m\u001b[38;5;124m\"\u001b[39m, LpMaximize)\n\u001b[0;32m     11\u001b[0m \u001b[38;5;66;03m# Objective function: maximize food preference produced with preference decay for duplicated meals\u001b[39;00m\n\u001b[1;32m---> 12\u001b[0m prob \u001b[38;5;241m+\u001b[39m\u001b[38;5;241m=\u001b[39m lpSum(df_recipe_cost\u001b[38;5;241m.\u001b[39mloc[df_recipe_cost[\u001b[38;5;124m'\u001b[39m\u001b[38;5;124mName\u001b[39m\u001b[38;5;124m'\u001b[39m] \u001b[38;5;241m==\u001b[39m recipe, \u001b[38;5;124m'\u001b[39m\u001b[38;5;124mPreference\u001b[39m\u001b[38;5;124m'\u001b[39m]\u001b[38;5;241m.\u001b[39mvalues[\u001b[38;5;241m0\u001b[39m] \u001b[38;5;241m*\u001b[39m ((\u001b[38;5;241m1\u001b[39m\u001b[38;5;241m-\u001b[39m\u001b[43mdecay_mul\u001b[49m\u001b[38;5;241;43m*\u001b[39;49m\u001b[38;5;241;43m*\u001b[39;49m\u001b[43mrecipes_to_produce\u001b[49m\u001b[43m[\u001b[49m\u001b[43mrecipe\u001b[49m\u001b[43m]\u001b[49m)\u001b[38;5;241m/\u001b[39m(\u001b[38;5;241m1\u001b[39m\u001b[38;5;241m-\u001b[39mdecay_mul)) \u001b[38;5;28;01mfor\u001b[39;00m recipe \u001b[38;5;129;01min\u001b[39;00m df_recipe_cost[\u001b[38;5;124m'\u001b[39m\u001b[38;5;124mName\u001b[39m\u001b[38;5;124m'\u001b[39m])\n\u001b[0;32m     14\u001b[0m \u001b[38;5;66;03m# Constraint 1: time cost\u001b[39;00m\n\u001b[0;32m     15\u001b[0m prob \u001b[38;5;241m+\u001b[39m\u001b[38;5;241m=\u001b[39m lpSum(df_recipe_cost\u001b[38;5;241m.\u001b[39mloc[df_recipe_cost[\u001b[38;5;124m'\u001b[39m\u001b[38;5;124mName\u001b[39m\u001b[38;5;124m'\u001b[39m] \u001b[38;5;241m==\u001b[39m recipe, \u001b[38;5;124m'\u001b[39m\u001b[38;5;124mTime\u001b[39m\u001b[38;5;124m'\u001b[39m]\u001b[38;5;241m.\u001b[39mvalues[\u001b[38;5;241m0\u001b[39m] \u001b[38;5;241m*\u001b[39m recipes_to_produce[recipe] \u001b[38;5;28;01mfor\u001b[39;00m recipe \u001b[38;5;129;01min\u001b[39;00m df_recipe_cost[\u001b[38;5;124m'\u001b[39m\u001b[38;5;124mName\u001b[39m\u001b[38;5;124m'\u001b[39m]) \u001b[38;5;241m<\u001b[39m\u001b[38;5;241m=\u001b[39m time_available\n",
      "\u001b[1;31mTypeError\u001b[0m: unsupported operand type(s) for ** or pow(): 'float' and 'LpVariable'"
     ]
    }
   ],
   "source": [
    "#define decay factor and decay factor multiplier\n",
    "decay=0.4\n",
    "decay_mul=1-decay\n",
    "# Define decision variables\n",
    "recipes_to_produce = LpVariable.dicts(\"Recipe\", df_recipe_cost['Name'], lowBound=0, cat='Integer')\n",
    "is_selected = LpVariable.dicts(\"IsSelected\", df_recipe_cost['Name'], cat='Binary')\n",
    "\n",
    "# Define the optimization problem\n",
    "prob = LpProblem(\"Recipe_Production\", LpMaximize)\n",
    "\n",
    "# Objective function: maximize food preference produced with preference decay for duplicated meals\n",
    "prob += lpSum(df_recipe_cost.loc[df_recipe_cost['Name'] == recipe, 'Preference'].values[0] * ((1-decay_mul**recipes_to_produce[recipe])/(1-decay_mul)) for recipe in df_recipe_cost['Name'])\n",
    "\n",
    "# Constraint 1: time cost\n",
    "prob += lpSum(df_recipe_cost.loc[df_recipe_cost['Name'] == recipe, 'Time'].values[0] * recipes_to_produce[recipe] for recipe in df_recipe_cost['Name']) <= time_available\n",
    "\n",
    "# Constraint 2: nutritional requirements\n",
    "for nutrient in nutrient_requirements:\n",
    "    prob += lpSum(df_recipe_nutrition.loc[df_recipe_nutrition['Name'] == recipe, nutrient].values[0] * recipes_to_produce[recipe] for recipe in df_recipe_nutrition['Name']) >= nutrient_requirements[nutrient]\n",
    "\n",
    "# Solve the optimization problem\n",
    "prob.solve()\n",
    "\n",
    "# Print the results\n",
    "print(\"Status:\", prob.status)\n",
    "print(\"Objective:\", round(prob.objective.value(), 2))\n",
    "\n",
    "# Initialize an empty list to store the quantities\n",
    "alpha = []\n",
    "\n",
    "# Iterate through all recipes\n",
    "for recipe in df_recipe_cost['Name']:\n",
    "    # Retrieve the quantity from the optimization results\n",
    "    quantity = recipes_to_produce[recipe].value()\n",
    "    # Append the quantity to the alpha list\n",
    "    alpha.append(round(quantity, 2))\n",
    "\n",
    "# Print the whole array of quantities\n",
    "#print(\"Quantity array (alpha):\", alpha)\n",
    "\n",
    "output = dict(zip(list(df_recipe_cost['Name']), alpha))\n",
    "output\n"
   ]
  },
  {
   "cell_type": "markdown",
   "id": "ac21fb20-36ec-43d7-a0dc-a938a4affccf",
   "metadata": {},
   "source": [
    "cannot solve such a problem with PULP, which is a linear program solver"
   ]
  },
  {
   "cell_type": "code",
   "execution_count": null,
   "id": "4e603cd5-a299-4b15-88d7-c8af6587df14",
   "metadata": {},
   "outputs": [],
   "source": []
  }
 ],
 "metadata": {
  "kernelspec": {
   "display_name": "Python 3 (ipykernel)",
   "language": "python",
   "name": "python3"
  },
  "language_info": {
   "codemirror_mode": {
    "name": "ipython",
    "version": 3
   },
   "file_extension": ".py",
   "mimetype": "text/x-python",
   "name": "python",
   "nbconvert_exporter": "python",
   "pygments_lexer": "ipython3",
   "version": "3.10.11"
  }
 },
 "nbformat": 4,
 "nbformat_minor": 5
}
